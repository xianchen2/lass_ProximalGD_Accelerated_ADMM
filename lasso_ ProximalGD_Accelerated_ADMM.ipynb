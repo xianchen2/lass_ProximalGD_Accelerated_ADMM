{
 "cells": [
  {
   "cell_type": "markdown",
   "metadata": {},
   "source": [
    "# Lasso Regression"
   ]
  },
  {
   "cell_type": "code",
   "execution_count": 1,
   "metadata": {},
   "outputs": [],
   "source": [
    "import numpy as np \n",
    "from scipy.sparse import random as sprandn\n",
    "import matplotlib.pyplot as plt"
   ]
  },
  {
   "cell_type": "markdown",
   "metadata": {},
   "source": [
    "### Problem data"
   ]
  },
  {
   "cell_type": "code",
   "execution_count": 2,
   "metadata": {},
   "outputs": [],
   "source": [
    "m = 500 \t#number of examples\n",
    "n = 2500\t#number of features\n",
    "A = np.matrix(np.random.randn(m,n))\n",
    "A = (A-np.mean(A,0))/np.std(A,0) # normalize columns\n",
    "x_r = sprandn(n,1,density=0.05)\n",
    "b = A*x_r + np.sqrt(0.001)*np.matrix(np.random.randn(m,1))\n",
    "\n",
    "# cached computations\n",
    "AtA  = A.T*A #n*n\n",
    "Atb  = A.T*b #n*1"
   ]
  },
  {
   "cell_type": "markdown",
   "metadata": {},
   "source": [
    "### Global constants and defaults"
   ]
  },
  {
   "cell_type": "code",
   "execution_count": 3,
   "metadata": {},
   "outputs": [],
   "source": [
    "Max_iter = 100\n",
    "ABSTOL = 1e-3\n",
    "RELTOL   = 1e-2 #error tolerance for ADMM"
   ]
  },
  {
   "cell_type": "markdown",
   "metadata": {},
   "source": [
    "# 1.1 Proximal gradient method"
   ]
  },
  {
   "cell_type": "code",
   "execution_count": 4,
   "metadata": {},
   "outputs": [],
   "source": [
    "def objective(A,x,b,gamma):\n",
    "\t'''\n",
    "\tobjective function: f(x) + g(x)\n",
    "\tf(x) = 1/2||Ax-b||^2\n",
    "\tg(x) = gamma*|x|\n",
    "\tA : independt variables m*n\n",
    "\tx : parameters n*1\n",
    "\tb : m*1\n",
    "\t''' \n",
    "\treturn f(A,x,b) + gamma*np.sum(np.abs(x))\n",
    "\n",
    "def f(A,x,b):\n",
    "\t'''\n",
    "\tf(x) = 1/2||Ax-b||^2 m*1\n",
    "\t'''\n",
    "\treturn 0.5*(np.linalg.norm(A*x-b)**2)"
   ]
  },
  {
   "cell_type": "code",
   "execution_count": 5,
   "metadata": {},
   "outputs": [],
   "source": [
    "def gradf(AtA,x,Atb):\n",
    "\t'''\n",
    "\tgradient of f(X) n*1\n",
    "\t'''\n",
    "\treturn AtA*x-Atb \n",
    "\n",
    "def uppbd(A,AtA,Atb,x,x_1,b,lamdaK):\n",
    "\t'''\n",
    "\tm*1\n",
    "\t'''\n",
    "\txDiff = x_1 - x\n",
    "\treturn f(A,x,b) + gradf(AtA,x,Atb).T*xDiff + 1.0/(2.0*lamdaK)* np.sum(np.multiply(xDiff,xDiff))\n",
    "    "
   ]
  },
  {
   "cell_type": "code",
   "execution_count": 6,
   "metadata": {},
   "outputs": [],
   "source": [
    "def proxop(v,lamdaK):\n",
    "\t'''\n",
    "\tcalculate proximal operater\n",
    "\tlamdaK: learning rate\n",
    "\t'''\n",
    "\tzero = np.matrix(np.zeros(np.shape(v)))\n",
    "\treturn np.multiply(np.sign(v),np.maximum(np.abs(v)-lamdaK,zero))"
   ]
  },
  {
   "cell_type": "code",
   "execution_count": 7,
   "metadata": {},
   "outputs": [],
   "source": [
    "def proxgd(Max_iter,lamdaK,gamma,AtA,Atb,A,beta,b,ABSTOL):\n",
    "\n",
    "\tx = np.matrix(np.zeros((np.shape(A)[1],1)))\n",
    "\t\n",
    "\tobj = []\n",
    "\tfor k in range(Max_iter):\n",
    "\t\twhile True:\n",
    "\t\t\tx_1 = proxop(x-lamdaK*gradf(AtA,x,Atb),lamdaK*gamma)\n",
    "\t\t\tif f(A,x_1,b) <= uppbd(A,AtA,Atb,x,x_1,b,lamdaK):\n",
    "\t\t\t\tbreak\n",
    "\t\t\telse:\n",
    "\t\t\t\tlamdaK = beta*lamdaK\n",
    "\n",
    "\t\tobj.append(objective(A,x_1,b,gamma))\n",
    "\n",
    "\t\t# terminating condition\n",
    "\t\tif k > 1 and np.linalg.norm(objective(A,x_1,b,gamma) - objective(A,x,b,gamma)) < ABSTOL:\n",
    "\t\t\tbreak\n",
    "\n",
    "\t\tx = x_1\n",
    "\treturn x_1, obj"
   ]
  },
  {
   "cell_type": "code",
   "execution_count": 8,
   "metadata": {
    "scrolled": false
   },
   "outputs": [],
   "source": [
    "if __name__ == '__main__':\n",
    "\tlamdaK = 1\n",
    "\tbeta = 0.5 #decreasing parameter for lambda\n",
    "\t# gamma =  0.1*np.linalg.norm(Atb,np.inf) \n",
    "\tgamma =  0.01\n",
    "\n",
    "\tx_1,obj= proxgd(Max_iter,lamdaK,gamma,AtA,Atb,A,beta,b,ABSTOL)"
   ]
  },
  {
   "cell_type": "code",
   "execution_count": 9,
   "metadata": {
    "scrolled": true
   },
   "outputs": [
    {
     "data": {
      "text/plain": [
       "25"
      ]
     },
     "execution_count": 9,
     "metadata": {},
     "output_type": "execute_result"
    }
   ],
   "source": [
    "len(obj)"
   ]
  },
  {
   "cell_type": "code",
   "execution_count": 10,
   "metadata": {
    "scrolled": true
   },
   "outputs": [
    {
     "data": {
      "text/plain": [
       "[1728.730022362098,\n",
       " 576.72762252084499,\n",
       " 243.40117951752387,\n",
       " 115.33478518733722,\n",
       " 58.626951098132658,\n",
       " 31.323129470569739,\n",
       " 17.450534258204257,\n",
       " 10.140355788283632,\n",
       " 6.1877411929716963,\n",
       " 4.0100055380999748,\n",
       " 2.7930870481873189,\n",
       " 2.1055435215984626,\n",
       " 1.7136710195347882,\n",
       " 1.4887032823387121,\n",
       " 1.3587855774321138,\n",
       " 1.2833626582240778,\n",
       " 1.2393833605015667,\n",
       " 1.2136281614460283,\n",
       " 1.1984859008714515,\n",
       " 1.1895488212905294,\n",
       " 1.1842537512924736,\n",
       " 1.1811037382297271,\n",
       " 1.1792214494946511,\n",
       " 1.1780900566786434,\n",
       " 1.1774049929679202]"
      ]
     },
     "execution_count": 10,
     "metadata": {},
     "output_type": "execute_result"
    }
   ],
   "source": [
    "obj"
   ]
  },
  {
   "cell_type": "markdown",
   "metadata": {},
   "source": [
    "# 1.2 Accelerated proximal gradient method"
   ]
  },
  {
   "cell_type": "code",
   "execution_count": 11,
   "metadata": {},
   "outputs": [],
   "source": [
    "def AccProxgd(Max_iter,lamdaK,gamma,AtA,Atb,A,beta,b,ABSTOL):\n",
    "\n",
    "\tx = np.matrix(np.zeros((np.shape(A)[1],1)))\n",
    "\txprev = x\n",
    "\t\n",
    "\tobj = []\n",
    "\tfor k in range(Max_iter):\n",
    "\t\t\n",
    "\t\ty = x + (1/(k+3)) * (x-xprev)\n",
    "\t\t\n",
    "\t\twhile True:\n",
    "\t\t\tx_1 = proxop(y-lamdaK*gradf(AtA,y,Atb),lamdaK*gamma)\n",
    "\t\t\tif f(A,x_1,b) <= uppbd(A,AtA,Atb,y,x_1,b,lamdaK):\n",
    "\t\t\t\tbreak\n",
    "\t\t\telse:\n",
    "\t\t\t\tlamdaK = beta*lamdaK\n",
    "\n",
    "\t\tobj.append(objective(A,x_1,b,gamma))\n",
    "\n",
    "\t\t# terminating condition\n",
    "\t\tif k > 1 and np.linalg.norm(objective(A,x_1,b,gamma) - objective(A,x,b,gamma)) < ABSTOL:\n",
    "\t\t\tbreak\n",
    "\n",
    "\t\txprev = x\n",
    "\t\tx = x_1\n",
    "\n",
    "\t\n",
    "\treturn x_1, obj"
   ]
  },
  {
   "cell_type": "code",
   "execution_count": 12,
   "metadata": {},
   "outputs": [],
   "source": [
    "if __name__ == '__main__':\n",
    "\tlamdaK = 1\n",
    "\tbeta = 0.5 #decreasing parameter for lambda\n",
    "\t# gamma =  0.1*np.linalg.norm(Atb,np.inf) \n",
    "\tgamma =  0.01\n",
    "\n",
    "\tx_1,obj2= AccProxgd(Max_iter,lamdaK,gamma,AtA,Atb,A,beta,b,ABSTOL)"
   ]
  },
  {
   "cell_type": "code",
   "execution_count": 13,
   "metadata": {},
   "outputs": [
    {
     "data": {
      "text/plain": [
       "22"
      ]
     },
     "execution_count": 13,
     "metadata": {},
     "output_type": "execute_result"
    }
   ],
   "source": [
    "len(obj2)"
   ]
  },
  {
   "cell_type": "code",
   "execution_count": 14,
   "metadata": {},
   "outputs": [
    {
     "data": {
      "text/plain": [
       "[1728.730022362098,\n",
       " 419.3120962214972,\n",
       " 141.21857910161768,\n",
       " 58.838543544182571,\n",
       " 27.696556854337214,\n",
       " 14.168343104041314,\n",
       " 7.7957686029415569,\n",
       " 4.6406878169584518,\n",
       " 3.0256442243417467,\n",
       " 2.1788004208018323,\n",
       " 1.7265442276487084,\n",
       " 1.4814686865963467,\n",
       " 1.3470843401860735,\n",
       " 1.2726502299788547,\n",
       " 1.2310688579460236,\n",
       " 1.2076573270245885,\n",
       " 1.194383359461709,\n",
       " 1.1868069146176086,\n",
       " 1.1824546275453953,\n",
       " 1.1799383044607681,\n",
       " 1.1784726733223767,\n",
       " 1.1776114924933554]"
      ]
     },
     "execution_count": 14,
     "metadata": {},
     "output_type": "execute_result"
    }
   ],
   "source": [
    "obj2"
   ]
  },
  {
   "cell_type": "markdown",
   "metadata": {},
   "source": [
    "# 1.3 ADMM"
   ]
  },
  {
   "cell_type": "code",
   "execution_count": 15,
   "metadata": {},
   "outputs": [],
   "source": [
    "def proxf(AtA,v,Atb,RELTOL,n):\n",
    "\t'''\n",
    "\t1/2||Ax-b||_2^2\n",
    "\t'''\n",
    "\treturn np.linalg.inv(RELTOL*np.identity(n)+AtA)*(Atb+0.01*v)"
   ]
  },
  {
   "cell_type": "code",
   "execution_count": 16,
   "metadata": {},
   "outputs": [],
   "source": [
    "def ADMM(Max_iter,lamdaK,gamma,AtA,Atb,A,b,ABSTOL,RELTOL,n):\n",
    "    \n",
    "\tldr = 1/lamdaK\n",
    "\tx = np.matrix(np.random.randn(n,1))\n",
    "\tz = np.matrix(np.random.randn(n,1))\n",
    "\tu = np.matrix(np.random.randn(n,1))\n",
    "    \n",
    "    \n",
    "\tobj = []\n",
    "\tfor k in range(Max_iter):\n",
    "\t\t# update x\n",
    "\t\tx_1 = proxf(AtA,(z-u),Atb,RELTOL,n)\n",
    "\t\t# update z\n",
    "\t\tz_1 = proxop(x_1+u,(lamdaK*gamma)/RELTOL) \n",
    "\t\t# update u\n",
    "\t\tu_1 = u + RELTOL*(x_1 - z_1)\n",
    "        \n",
    "\t\tls = f(A,x_1,b)+ gamma*np.sum(np.abs(z_1))\n",
    "\t\tobj.append(ls)\n",
    "        \n",
    "# \t\t# terminating condition\n",
    "# \t\txz_norm = np.linalg.norm(x_1-z_1)\n",
    "# \t\tzz_norm = np.linalg.norm(-ldr*(z_1 - z))\n",
    "# \t\teps_pri = np.sqrt(n)*ABSTOL + RELTOL*np.maximum(np.linalg.norm(x_1),np.linalg.norm(-z_1))\n",
    "# \t\teps_dual = np.sqrt(n)*ABSTOL + RELTOL*np.linalg.norm(ldr*u_1)\n",
    "# \t\tif xz_norm < eps_pri and zz_norm < eps_dual:\n",
    "# \t\t\tbreak\n",
    "\n",
    "\t\tlsold = f(A,x,b)+ gamma*np.sum(np.abs(z))\n",
    "\t\tif k > 1 and np.linalg.norm(ls - lsold) < ABSTOL:\n",
    "\t\t\tbreak\n",
    "\n",
    "\t\tz = z_1\n",
    "\t\tx = x_1\n",
    "\t\tu = u_1        \n",
    "\n",
    "\treturn x_1, obj"
   ]
  },
  {
   "cell_type": "code",
   "execution_count": 17,
   "metadata": {},
   "outputs": [],
   "source": [
    "if __name__ == '__main__':\n",
    "\tlamdaK = 1\n",
    "\tgamma =  0.01\n",
    "\n",
    "\tx_1,obj3 = ADMM(Max_iter,lamdaK,gamma,AtA,Atb,A,b,ABSTOL,RELTOL,n)"
   ]
  },
  {
   "cell_type": "code",
   "execution_count": 18,
   "metadata": {
    "scrolled": true
   },
   "outputs": [
    {
     "data": {
      "text/plain": [
       "12"
      ]
     },
     "execution_count": 18,
     "metadata": {},
     "output_type": "execute_result"
    }
   ],
   "source": [
    "len(obj3)"
   ]
  },
  {
   "cell_type": "code",
   "execution_count": 23,
   "metadata": {
    "scrolled": true
   },
   "outputs": [
    {
     "data": {
      "text/plain": [
       "[4.1000416626113472,\n",
       " 0.8637771830621277,\n",
       " 0.35702569132190154,\n",
       " 0.2784994970940563,\n",
       " 0.26235619218537598,\n",
       " 0.26117840477367449,\n",
       " 0.26466010091148912,\n",
       " 0.26737559294336777,\n",
       " 0.2707650251735858,\n",
       " 0.27459662831843151,\n",
       " 0.27674191919640467,\n",
       " 0.27763558877287814]"
      ]
     },
     "execution_count": 23,
     "metadata": {},
     "output_type": "execute_result"
    }
   ],
   "source": [
    "obj3"
   ]
  },
  {
   "cell_type": "markdown",
   "metadata": {},
   "source": [
    "# plots"
   ]
  },
  {
   "cell_type": "code",
   "execution_count": 24,
   "metadata": {
    "scrolled": true
   },
   "outputs": [
    {
     "data": {
      "text/plain": [
       "<matplotlib.legend.Legend at 0x102a90048>"
      ]
     },
     "execution_count": 24,
     "metadata": {},
     "output_type": "execute_result"
    },
    {
     "data": {
      "image/png": "[encoded data removed]",
      "text/plain": [
       "<matplotlib.figure.Figure at 0x110ec4f98>"
      ]
     },
     "metadata": {},
     "output_type": "display_data"
    }
   ],
   "source": [
    "%matplotlib inline\n",
    "\n",
    "plt.plot(range(len(obj)), obj, 'bd',range(len(obj2)), obj2, 'rs',range(len(obj3)), obj3, 'g^')\n",
    "plt.title('Convergence curve')\n",
    "plt.xlabel('iteration')\n",
    "plt.ylabel('loss')\n",
    "\n",
    "plt.legend(['Proximal gradient', 'Accelerated','ADMM'], loc='upper right')"
   ]
  },
  {
   "cell_type": "code",
   "execution_count": 25,
   "metadata": {
    "scrolled": true
   },
   "outputs": [
    {
     "data": {
      "text/plain": [
       "<matplotlib.legend.Legend at 0x12c44e048>"
      ]
     },
     "execution_count": 25,
     "metadata": {},
     "output_type": "execute_result"
    },
    {
     "data": {
      "image/png": "[encoded data removed]",
      "text/plain": [
       "<matplotlib.figure.Figure at 0x110b9e908>"
      ]
     },
     "metadata": {},
     "output_type": "display_data"
    }
   ],
   "source": [
    "%matplotlib inline\n",
    "plt.plot(range(len(obj3)), obj3, 'g^')\n",
    "plt.title('Convergence curve')\n",
    "plt.xlabel('iteration')\n",
    "plt.ylabel('loss')\n",
    "plt.legend(['ADMM'], loc='upper right')"
   ]
  },
  {
   "cell_type": "code",
   "execution_count": 26,
   "metadata": {
    "scrolled": true
   },
   "outputs": [
    {
     "data": {
      "text/plain": [
       "<matplotlib.legend.Legend at 0x110ecb828>"
      ]
     },
     "execution_count": 26,
     "metadata": {},
     "output_type": "execute_result"
    },
    {
     "data": {
      "image/png": "[encoded data removed]",
      "text/plain": [
       "<matplotlib.figure.Figure at 0x110ecbac8>"
      ]
     },
     "metadata": {},
     "output_type": "display_data"
    }
   ],
   "source": [
    "plt.plot(range(len(obj)), obj, 'bd',range(len(obj2)), obj2, 'rs')\n",
    "plt.legend(['Proximal gradient', 'Accelerated'], loc='upper right')"
   ]
  }
 ],
 "metadata": {
  "kernelspec": {
   "display_name": "Python 3",
   "language": "python",
   "name": "python3"
  },
  "language_info": {
   "codemirror_mode": {
    "name": "ipython",
    "version": 3
   },
   "file_extension": ".py",
   "mimetype": "text/x-python",
   "name": "python",
   "nbconvert_exporter": "python",
   "pygments_lexer": "ipython3",
   "version": "3.5.1"
  }
 },
 "nbformat": 4,
 "nbformat_minor": 2
}
