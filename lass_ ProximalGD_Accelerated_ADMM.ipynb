{
 "cells": [
  {
   "cell_type": "markdown",
   "metadata": {},
   "source": [
    "# Lasso Regression"
   ]
  },
  {
   "cell_type": "code",
   "execution_count": 1,
   "metadata": {},
   "outputs": [],
   "source": [
    "import numpy as np \n",
    "from scipy.sparse import random as sprandn\n",
    "import matplotlib.pyplot as plt"
   ]
  },
  {
   "cell_type": "markdown",
   "metadata": {},
   "source": [
    "### Problem data"
   ]
  },
  {
   "cell_type": "code",
   "execution_count": 2,
   "metadata": {},
   "outputs": [],
   "source": [
    "m = 500 \t#number of examples\n",
    "n = 2500\t#number of features\n",
    "A = np.matrix(np.random.randn(m,n))\n",
    "A = (A-np.mean(A,0))/np.std(A,0) # normalize columns\n",
    "x_r = sprandn(n,1,density=0.05)\n",
    "b = A*x_r + np.sqrt(0.001)*np.matrix(np.random.randn(m,1))\n",
    "\n",
    "# cached computations\n",
    "AtA  = A.T*A #n*n\n",
    "Atb  = A.T*b #n*1"
   ]
  },
  {
   "cell_type": "markdown",
   "metadata": {},
   "source": [
    "### Global constants and defaults"
   ]
  },
  {
   "cell_type": "code",
   "execution_count": 3,
   "metadata": {},
   "outputs": [],
   "source": [
    "Max_iter = 100\n",
    "ABSTOL = 1e-3\n",
    "RELTOL   = 1e-2 #error tolerance for ADMM"
   ]
  },
  {
   "cell_type": "markdown",
   "metadata": {},
   "source": [
    "# 1.1 Proximal gradient method"
   ]
  },
  {
   "cell_type": "code",
   "execution_count": 4,
   "metadata": {},
   "outputs": [],
   "source": [
    "def objective(A,x,b,gamma):\n",
    "\t'''\n",
    "\tobjective function: f(x) + g(x)\n",
    "\tf(x) = 1/2||Ax-b||^2\n",
    "\tg(x) = gamma*|x|\n",
    "\tA : independt variables m*n\n",
    "\tx : parameters n*1\n",
    "\tb : m*1\n",
    "\t''' \n",
    "\treturn f(A,x,b) + gamma*np.sum(np.abs(x))\n",
    "\n",
    "def f(A,x,b):\n",
    "\t'''\n",
    "\tf(x) = 1/2||Ax-b||^2 m*1\n",
    "\t'''\n",
    "\treturn 0.5*(np.linalg.norm(A*x-b)**2)"
   ]
  },
  {
   "cell_type": "code",
   "execution_count": 5,
   "metadata": {},
   "outputs": [],
   "source": [
    "def gradf(AtA,x,Atb):\n",
    "\t'''\n",
    "\tgradient of f(X) n*1\n",
    "\t'''\n",
    "\treturn AtA*x-Atb \n",
    "\n",
    "def uppbd(A,AtA,Atb,x,x_1,b,lamdaK):\n",
    "\t'''\n",
    "\tm*1\n",
    "\t'''\n",
    "\txDiff = x_1 - x\n",
    "\treturn f(A,x,b) + gradf(AtA,x,Atb).T*xDiff + 1.0/(2.0*lamdaK)* np.sum(np.multiply(xDiff,xDiff))\n",
    "    "
   ]
  },
  {
   "cell_type": "code",
   "execution_count": 6,
   "metadata": {},
   "outputs": [],
   "source": [
    "def proxop(v,lamdaK):\n",
    "\t'''\n",
    "\tcalculate proximal operater\n",
    "\tlamdaK: learning rate\n",
    "\t'''\n",
    "\tzero = np.matrix(np.zeros(np.shape(v)))\n",
    "\treturn np.multiply(np.sign(v),np.maximum(np.abs(v)-lamdaK,zero))"
   ]
  },
  {
   "cell_type": "code",
   "execution_count": 7,
   "metadata": {},
   "outputs": [],
   "source": [
    "def proxgd(Max_iter,lamdaK,gamma,AtA,Atb,A,beta,b,ABSTOL):\n",
    "\n",
    "\tx = np.matrix(np.zeros((np.shape(A)[1],1)))\n",
    "\t\n",
    "\tobj = []\n",
    "\tfor k in range(Max_iter):\n",
    "\t\twhile True:\n",
    "\t\t\tx_1 = proxop(x-lamdaK*gradf(AtA,x,Atb),lamdaK*gamma)\n",
    "\t\t\tif f(A,x_1,b) <= uppbd(A,AtA,Atb,x,x_1,b,lamdaK):\n",
    "\t\t\t\tbreak\n",
    "\t\t\telse:\n",
    "\t\t\t\tlamdaK = beta*lamdaK\n",
    "\n",
    "\t\tobj.append(objective(A,x_1,b,gamma))\n",
    "\n",
    "\t\t# terminating condition\n",
    "\t\tif k > 1 and np.linalg.norm(objective(A,x_1,b,gamma) - objective(A,x,b,gamma)) < ABSTOL:\n",
    "\t\t\tbreak\n",
    "\n",
    "\t\tx = x_1\n",
    "\treturn x_1, obj"
   ]
  },
  {
   "cell_type": "code",
   "execution_count": 8,
   "metadata": {
    "scrolled": false
   },
   "outputs": [],
   "source": [
    "if __name__ == '__main__':\n",
    "\tlamdaK = 1\n",
    "\tbeta = 0.5 #decreasing parameter for lambda\n",
    "\t# gamma =  0.1*np.linalg.norm(Atb,np.inf) \n",
    "\tgamma =  0.01\n",
    "\n",
    "\tx_1,obj= proxgd(Max_iter,lamdaK,gamma,AtA,Atb,A,beta,b,ABSTOL)"
   ]
  },
  {
   "cell_type": "code",
   "execution_count": 9,
   "metadata": {
    "scrolled": true
   },
   "outputs": [
    {
     "data": {
      "text/plain": [
       "25"
      ]
     },
     "execution_count": 9,
     "metadata": {},
     "output_type": "execute_result"
    }
   ],
   "source": [
    "len(obj)"
   ]
  },
  {
   "cell_type": "code",
   "execution_count": 10,
   "metadata": {},
   "outputs": [
    {
     "data": {
      "text/plain": [
       "[1541.9457101415242,\n",
       " 523.89749759173708,\n",
       " 224.09890011755471,\n",
       " 106.57496660768732,\n",
       " 54.11042303703028,\n",
       " 28.847286762940659,\n",
       " 16.06093052904777,\n",
       " 9.3562037103310249,\n",
       " 5.7453666937779717,\n",
       " 3.759540870521243,\n",
       " 2.6486021289455359,\n",
       " 2.0182612679795917,\n",
       " 1.6562722519835358,\n",
       " 1.4462333989902141,\n",
       " 1.3232659495311008,\n",
       " 1.2507129441568703,\n",
       " 1.2076055092565525,\n",
       " 1.1818358536426674,\n",
       " 1.1663441915868804,\n",
       " 1.156983680916295,\n",
       " 1.1513000129463158,\n",
       " 1.1478324607220927,\n",
       " 1.1457066096714643,\n",
       " 1.1443962339456846,\n",
       " 1.1435832710550462]"
      ]
     },
     "execution_count": 10,
     "metadata": {},
     "output_type": "execute_result"
    }
   ],
   "source": [
    "obj"
   ]
  },
  {
   "cell_type": "markdown",
   "metadata": {},
   "source": [
    "# 1.2 Accelerated proximal gradient method"
   ]
  },
  {
   "cell_type": "code",
   "execution_count": 11,
   "metadata": {},
   "outputs": [],
   "source": [
    "def AccProxgd(Max_iter,lamdaK,gamma,AtA,Atb,A,beta,b,ABSTOL):\n",
    "\n",
    "\tx = np.matrix(np.zeros((np.shape(A)[1],1)))\n",
    "\txprev = x\n",
    "\t\n",
    "\tobj = []\n",
    "\tfor k in range(Max_iter):\n",
    "\t\t\n",
    "\t\ty = x + (1/(k+3)) * (x-xprev)\n",
    "\t\t\n",
    "\t\twhile True:\n",
    "\t\t\tx_1 = proxop(y-lamdaK*gradf(AtA,y,Atb),lamdaK*gamma)\n",
    "\t\t\tif f(A,x_1,b) <= uppbd(A,AtA,Atb,y,x_1,b,lamdaK):\n",
    "\t\t\t\tbreak\n",
    "\t\t\telse:\n",
    "\t\t\t\tlamdaK = beta*lamdaK\n",
    "\n",
    "\t\tobj.append(objective(A,x_1,b,gamma))\n",
    "\n",
    "\t\t# terminating condition\n",
    "\t\tif k > 1 and np.linalg.norm(objective(A,x_1,b,gamma) - objective(A,x,b,gamma)) < ABSTOL:\n",
    "\t\t\tbreak\n",
    "\n",
    "\t\txprev = x\n",
    "\t\tx = x_1\n",
    "\n",
    "\t\n",
    "\treturn x_1, obj"
   ]
  },
  {
   "cell_type": "code",
   "execution_count": 12,
   "metadata": {},
   "outputs": [],
   "source": [
    "if __name__ == '__main__':\n",
    "\tlamdaK = 1\n",
    "\tbeta = 0.5 #decreasing parameter for lambda\n",
    "\t# gamma =  0.1*np.linalg.norm(Atb,np.inf) \n",
    "\tgamma =  0.01\n",
    "\n",
    "\tx_1,obj2= AccProxgd(Max_iter,lamdaK,gamma,AtA,Atb,A,beta,b,ABSTOL)"
   ]
  },
  {
   "cell_type": "code",
   "execution_count": 13,
   "metadata": {},
   "outputs": [
    {
     "data": {
      "text/plain": [
       "23"
      ]
     },
     "execution_count": 13,
     "metadata": {},
     "output_type": "execute_result"
    }
   ],
   "source": [
    "len(obj2)"
   ]
  },
  {
   "cell_type": "code",
   "execution_count": 14,
   "metadata": {},
   "outputs": [
    {
     "data": {
      "text/plain": [
       "[1541.9457101415242,\n",
       " 390.35089063650514,\n",
       " 131.5939534314976,\n",
       " 54.418243289865345,\n",
       " 25.467556117771608,\n",
       " 13.020038640084156,\n",
       " 7.2026018510418188,\n",
       " 4.333308458624539,\n",
       " 2.8634063682718232,\n",
       " 2.0885798209943074,\n",
       " 1.6708214046995298,\n",
       " 1.4414025937173873,\n",
       " 1.3134765868592122,\n",
       " 1.2412225104678436,\n",
       " 1.1999559582542674,\n",
       " 1.1761608027507389,\n",
       " 1.1623222833127242,\n",
       " 1.1542123159249511,\n",
       " 1.1494252279798014,\n",
       " 1.1465799878123624,\n",
       " 1.1448770054792037,\n",
       " 1.1438497246462798,\n",
       " 1.1432242626777227]"
      ]
     },
     "execution_count": 14,
     "metadata": {},
     "output_type": "execute_result"
    }
   ],
   "source": [
    "obj2"
   ]
  },
  {
   "cell_type": "markdown",
   "metadata": {},
   "source": [
    "# 1.3 ADMM"
   ]
  },
  {
   "cell_type": "code",
   "execution_count": 15,
   "metadata": {},
   "outputs": [],
   "source": [
    "def proxf(AtA,v,Atb,n):\n",
    "\t'''\n",
    "\t1/2||Ax-b||_2^2\n",
    "\t'''\n",
    "\treturn np.linalg.inv(0.01*np.identity(n)+AtA)*(Atb+0.01*v)"
   ]
  },
  {
   "cell_type": "code",
   "execution_count": 16,
   "metadata": {},
   "outputs": [],
   "source": [
    "def ADMM(Max_iter,lamdaK,gamma,AtA,Atb,A,b,ABSTOL,RELTOL,n):\n",
    "\tomega = 0.01\n",
    "\tldr = 1/lamdaK\n",
    "\tx = np.matrix(np.random.randn(n,1))\n",
    "\tz = np.matrix(np.random.randn(n,1))\n",
    "\tu = np.matrix(np.random.randn(n,1))\n",
    "    \n",
    "    \n",
    "\tobj = []\n",
    "\tfor k in range(Max_iter):\n",
    "\t\t# update x\n",
    "\t\tx_1 = proxf(AtA,(z-u),Atb,n)\n",
    "\t\t# update z\n",
    "\t\tz_1 = proxop(x_1+u,(lamdaK*gamma)/omega) \n",
    "\t\t# update u\n",
    "\t\tu_1 = u + omega*(x_1 - z_1)\n",
    "        \n",
    "\t\tls = f(A,x_1,b)+ gamma*np.sum(np.abs(z_1))\n",
    "\t\tobj.append(ls)\n",
    "        \n",
    "# \t\t# terminating condition\n",
    "# \t\txz_norm = np.linalg.norm(x_1-z_1)\n",
    "# \t\tzz_norm = np.linalg.norm(-ldr*(z_1 - z))\n",
    "# \t\teps_pri = np.sqrt(n)*ABSTOL + RELTOL*np.maximum(np.linalg.norm(x_1),np.linalg.norm(-z_1))\n",
    "# \t\teps_dual = np.sqrt(n)*ABSTOL + RELTOL*np.linalg.norm(ldr*u_1)\n",
    "# \t\tif xz_norm < eps_pri and zz_norm < eps_dual:\n",
    "# \t\t\tbreak\n",
    "\t\tif k > 1 and np.linalg.norm(ls - (f(A,x,b)+ gamma*np.sum(np.abs(z)))) < ABSTOL:\n",
    "\t\t\tbreak\n",
    "\n",
    "\t\tz = z_1\n",
    "\t\tx = x_1\n",
    "\t\tu = u_1        \n",
    "\n",
    "\treturn x_1, obj"
   ]
  },
  {
   "cell_type": "code",
   "execution_count": 17,
   "metadata": {},
   "outputs": [],
   "source": [
    "if __name__ == '__main__':\n",
    "\tlamdaK = 1\n",
    "\tgamma =  0.01\n",
    "\n",
    "\tx_1,obj3 = ADMM(Max_iter,lamdaK,gamma,AtA,Atb,A,b,ABSTOL,RELTOL,n)"
   ]
  },
  {
   "cell_type": "code",
   "execution_count": 18,
   "metadata": {
    "scrolled": true
   },
   "outputs": [
    {
     "data": {
      "text/plain": [
       "12"
      ]
     },
     "execution_count": 18,
     "metadata": {},
     "output_type": "execute_result"
    }
   ],
   "source": [
    "len(obj3)"
   ]
  },
  {
   "cell_type": "code",
   "execution_count": 19,
   "metadata": {
    "scrolled": true
   },
   "outputs": [
    {
     "data": {
      "text/plain": [
       "[4.428960405209649,\n",
       " 0.93027049163626008,\n",
       " 0.3296634538522093,\n",
       " 0.21686740541878458,\n",
       " 0.19815308504245038,\n",
       " 0.20326882874459723,\n",
       " 0.21303296008428019,\n",
       " 0.22009232915031698,\n",
       " 0.22455270116374912,\n",
       " 0.22728770842021079,\n",
       " 0.22869774986155245,\n",
       " 0.22916668811247651]"
      ]
     },
     "execution_count": 19,
     "metadata": {},
     "output_type": "execute_result"
    }
   ],
   "source": [
    "obj3"
   ]
  },
  {
   "cell_type": "markdown",
   "metadata": {},
   "source": [
    "# plots"
   ]
  },
  {
   "cell_type": "code",
   "execution_count": 20,
   "metadata": {
    "scrolled": true
   },
   "outputs": [
    {
     "data": {
      "text/plain": [
       "<matplotlib.legend.Legend at 0x11e00fd68>"
      ]
     },
     "execution_count": 20,
     "metadata": {},
     "output_type": "execute_result"
    },
    {
     "data": {
      "image/png": "[encoded data removed]",
      "text/plain": [
       "<matplotlib.figure.Figure at 0x110e90f28>"
      ]
     },
     "metadata": {},
     "output_type": "display_data"
    }
   ],
   "source": [
    "%matplotlib inline\n",
    "\n",
    "plt.plot(range(len(obj)), obj, 'bd',range(len(obj2)), obj2, 'rs',range(len(obj3)), obj3, 'g^')\n",
    "plt.title('Convergence curve')\n",
    "plt.xlabel('iteration')\n",
    "plt.ylabel('loss')\n",
    "\n",
    "plt.legend(['Proximal gradient', 'Accelerated','ADMM'], loc='upper right')"
   ]
  },
  {
   "cell_type": "code",
   "execution_count": 21,
   "metadata": {
    "scrolled": true
   },
   "outputs": [
    {
     "data": {
      "text/plain": [
       "<matplotlib.legend.Legend at 0x12c31a6a0>"
      ]
     },
     "execution_count": 21,
     "metadata": {},
     "output_type": "execute_result"
    },
    {
     "data": {
      "image/png": "[encoded data removed]",
      "text/plain": [
       "<matplotlib.figure.Figure at 0x103190048>"
      ]
     },
     "metadata": {},
     "output_type": "display_data"
    }
   ],
   "source": [
    "%matplotlib inline\n",
    "plt.plot(range(len(obj3)), obj3, 'g^')\n",
    "plt.title('Convergence curve')\n",
    "plt.xlabel('iteration')\n",
    "plt.ylabel('loss')\n",
    "plt.legend(['ADMM'], loc='upper right')"
   ]
  },
  {
   "cell_type": "code",
   "execution_count": 22,
   "metadata": {
    "scrolled": true
   },
   "outputs": [
    {
     "data": {
      "text/plain": [
       "<matplotlib.legend.Legend at 0x12c3a0780>"
      ]
     },
     "execution_count": 22,
     "metadata": {},
     "output_type": "execute_result"
    },
    {
     "data": {
      "image/png": "[encoded data removed]",
      "text/plain": [
       "<matplotlib.figure.Figure at 0x12c3a0208>"
      ]
     },
     "metadata": {},
     "output_type": "display_data"
    }
   ],
   "source": [
    "plt.plot(range(len(obj)), obj, 'bd',range(len(obj2)), obj2, 'rs')\n",
    "plt.legend(['Proximal gradient', 'Accelerated'], loc='upper right')"
   ]
  }
 ],
 "metadata": {
  "kernelspec": {
   "display_name": "Python 3",
   "language": "python",
   "name": "python3"
  },
  "language_info": {
   "codemirror_mode": {
    "name": "ipython",
    "version": 3
   },
   "file_extension": ".py",
   "mimetype": "text/x-python",
   "name": "python",
   "nbconvert_exporter": "python",
   "pygments_lexer": "ipython3",
   "version": "3.5.1"
  }
 },
 "nbformat": 4,
 "nbformat_minor": 2
}
